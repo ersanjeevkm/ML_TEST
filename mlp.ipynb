{
 "cells": [
  {
   "cell_type": "markdown",
   "id": "a3dd7cc4",
   "metadata": {},
   "source": [
    "# MultiLayeredPerceptron"
   ]
  },
  {
   "cell_type": "code",
   "execution_count": 7,
   "id": "72d33ad9",
   "metadata": {
    "scrolled": true
   },
   "outputs": [],
   "source": [
    "import pandas as pd\n",
    "import numpy as np\n",
    "\n",
    "import matplotlib.pyplot as plt\n",
    "\n",
    "from sklearn.datasets import load_iris\n",
    "from sklearn.preprocessing import StandardScaler, LabelEncoder\n",
    "from sklearn.model_selection import train_test_split\n",
    "from sklearn.neural_network import MLPClassifier\n",
    "from sklearn.metrics import accuracy_score, classification_report, confusion_matrix"
   ]
  },
  {
   "cell_type": "code",
   "execution_count": 2,
   "id": "a1d7fd87",
   "metadata": {},
   "outputs": [],
   "source": [
    "dataset = load_iris()\n",
    "\n",
    "x = pd.DataFrame(dataset['data'], columns = dataset['feature_names'])\n",
    "y = dataset.target"
   ]
  },
  {
   "cell_type": "code",
   "execution_count": 3,
   "id": "11910a42",
   "metadata": {},
   "outputs": [],
   "source": [
    "scaler = StandardScaler()\n",
    "scaler.fit(x)\n",
    "x = scaler.transform(x)"
   ]
  },
  {
   "cell_type": "code",
   "execution_count": 4,
   "id": "2cd909e1",
   "metadata": {},
   "outputs": [],
   "source": [
    "x_train, x_test, y_train, y_test = train_test_split(x, y, test_size=.3)"
   ]
  },
  {
   "cell_type": "code",
   "execution_count": 22,
   "id": "3e0f1a8b",
   "metadata": {},
   "outputs": [
    {
     "data": {
      "text/plain": [
       "[<matplotlib.lines.Line2D at 0x258ce5c2d00>]"
      ]
     },
     "execution_count": 22,
     "metadata": {},
     "output_type": "execute_result"
    },
    {
     "data": {
      "image/png": "[encoded data removed]",
      "text/plain": [
       "<Figure size 432x288 with 1 Axes>"
      ]
     },
     "metadata": {
      "needs_background": "light"
     },
     "output_type": "display_data"
    }
   ],
   "source": [
    "acc = []\n",
    "\n",
    "for i in range(50):\n",
    "    mlp = MLPClassifier(max_iter = 3000, hidden_layer_sizes = i+1)\n",
    "    mlp.fit(x_train, y_train)\n",
    "    acc.append(mlp.score(x_test, y_test))\n",
    "    \n",
    "plt.xlabel(\"Number of layers\")\n",
    "plt.ylabel(\"Accuracy\")\n",
    "plt.plot(acc)"
   ]
  },
  {
   "cell_type": "code",
   "execution_count": 23,
   "id": "e2238131",
   "metadata": {
    "scrolled": true
   },
   "outputs": [
    {
     "data": {
      "text/plain": [
       "2"
      ]
     },
     "execution_count": 23,
     "metadata": {},
     "output_type": "execute_result"
    }
   ],
   "source": [
    "mlp = MLPClassifier(max_iter = 3000, hidden_layer_sizes = np.argmax(acc))\n",
    "mlp.__dict__\n",
    "np.argmax(acc)"
   ]
  },
  {
   "cell_type": "code",
   "execution_count": 24,
   "id": "e93dcc52",
   "metadata": {},
   "outputs": [
    {
     "data": {
      "text/plain": [
       "0.9555555555555556"
      ]
     },
     "execution_count": 24,
     "metadata": {},
     "output_type": "execute_result"
    }
   ],
   "source": [
    "mlp.fit(x_train, y_train)\n",
    "mlp.score(x_test, y_test)"
   ]
  },
  {
   "cell_type": "code",
   "execution_count": 25,
   "id": "5bab41f4",
   "metadata": {},
   "outputs": [],
   "source": [
    "pred = mlp.predict(x_test)"
   ]
  },
  {
   "cell_type": "code",
   "execution_count": 26,
   "id": "3012fdb0",
   "metadata": {},
   "outputs": [
    {
     "name": "stdout",
     "output_type": "stream",
     "text": [
      "[[15  0  0]\n",
      " [ 0 10  2]\n",
      " [ 0  0 18]]\n"
     ]
    }
   ],
   "source": [
    "print(confusion_matrix(y_test, pred))"
   ]
  },
  {
   "cell_type": "code",
   "execution_count": 27,
   "id": "81f0f2e5",
   "metadata": {},
   "outputs": [
    {
     "name": "stdout",
     "output_type": "stream",
     "text": [
      "              precision    recall  f1-score   support\n",
      "\n",
      "           0       1.00      1.00      1.00        15\n",
      "           1       1.00      0.83      0.91        12\n",
      "           2       0.90      1.00      0.95        18\n",
      "\n",
      "    accuracy                           0.96        45\n",
      "   macro avg       0.97      0.94      0.95        45\n",
      "weighted avg       0.96      0.96      0.95        45\n",
      "\n"
     ]
    }
   ],
   "source": [
    "print(classification_report(y_test, pred))"
   ]
  }
 ],
 "metadata": {
  "kernelspec": {
   "display_name": "Python 3",
   "language": "python",
   "name": "python3"
  },
  "language_info": {
   "codemirror_mode": {
    "name": "ipython",
    "version": 3
   },
   "file_extension": ".py",
   "mimetype": "text/x-python",
   "name": "python",
   "nbconvert_exporter": "python",
   "pygments_lexer": "ipython3",
   "version": "3.8.8"
  }
 },
 "nbformat": 4,
 "nbformat_minor": 5
}
